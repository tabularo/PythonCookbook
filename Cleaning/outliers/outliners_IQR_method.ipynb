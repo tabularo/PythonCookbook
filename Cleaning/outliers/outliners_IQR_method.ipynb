{
 "cells": [
  {
   "metadata": {},
   "cell_type": "markdown",
   "source": [
    "# Dealing with Outliers in Numerical Columns – Using IQR Method\n",
    "\n",
    "The Interquartile Range (IQR) method is a statistical technique used to identify outliers in a dataset. The IQR is the range between the first quartile (25th percentile) and the third quartile (75th percentile) of the data. It represents the range within which the middle 50% of the values lie.\n",
    "\n",
    "**Key Steps in the IQR Method for Outlier Detection**\n",
    "\n",
    "1. **Calculate the Q1 and Q3:** Q1 and Q3 (the 25th and 75th percentile, respectively) divide the ordered dataset into four equal parts. Q1 is the middle number between the smallest number and the median. Q3 is the middle value between the median and the highest value.\n",
    "\n",
    "2. **Calculate the IQR:** The IQR is calculated as the difference between Q3 and Q1 (IQR = Q3 – Q1).\n",
    "\n",
    "3. **Identify potential outliers:** Any data point that falls below Q1 – 1.5*IQR or above Q3 + 1.5*IQR is considered an outlier. The factor of 1.5 defines the \"whiskers\" of a box plot, which is used to visualize dispersion and skewness in the data. \n",
    "\n",
    "In the default setting, outliers are expected to fall above or below these whiskers. Adjusting the multiplier (1.5) allows for more or less flexibility in accounting for outliers, based on the specific data and use case.\n",
    "\n",
    "> In other words, the IQR is a way of understanding the spread of the middle 50% of your data, and the method as a whole is a reliable way of detecting and handling outliers."
   ],
   "id": "1e3041c029e3e1e6"
  },
  {
   "metadata": {},
   "cell_type": "markdown",
   "source": [
    "**Rough visualization:** <br>\n",
    "We are interested in all values between the lower and upper whisker line, values outside would be outliers for us."
   ],
   "id": "4947717d31b63683"
  },
  {
   "metadata": {},
   "cell_type": "markdown",
   "source": "![Example Image](https://bitwise.exposed/wp-content/uploads/2024/04/image-1.png)",
   "id": "159f340ef58132b3"
  },
  {
   "metadata": {},
   "cell_type": "markdown",
   "source": "---",
   "id": "923c481ec641490f"
  },
  {
   "metadata": {},
   "cell_type": "markdown",
   "source": "# Setup & References",
   "id": "cb11245c6cc2426f"
  },
  {
   "metadata": {},
   "cell_type": "markdown",
   "source": "## Import Libs",
   "id": "a760f6449e024f18"
  },
  {
   "cell_type": "code",
   "source": [
    "import pandas as pd\n",
    "import numpy as np"
   ],
   "metadata": {
    "collapsed": false,
    "ExecuteTime": {
     "end_time": "2024-04-05T23:55:27.189320Z",
     "start_time": "2024-04-05T23:55:27.174816Z"
    }
   },
   "id": "504d0bcc61e90fa8",
   "outputs": [],
   "execution_count": 20
  },
  {
   "metadata": {},
   "cell_type": "markdown",
   "source": "## Use functions",
   "id": "cd3092cda76f37ae"
  },
  {
   "metadata": {},
   "cell_type": "markdown",
   "source": [
    "| Function | Description |\n",
    "| :--- | :--- |\n",
    "| [quantile()](https://pandas.pydata.org/pandas-docs/stable/reference/api/pandas.DataFrame.quantile.html) | Return value at the given quantile over requested axis, a DataFrame level function. |\n",
    "| [any()](https://pandas.pydata.org/pandas-docs/stable/reference/api/pandas.DataFrame.any.html) | Return whether any element is True over requested axis in a DataFrame. |"
   ],
   "id": "4ae8182b691f6733"
  },
  {
   "metadata": {},
   "cell_type": "markdown",
   "source": [
    "---\n",
    "# Code Snippets\n",
    "\n",
    "---"
   ],
   "id": "2f9d1d7cdf485765"
  },
  {
   "cell_type": "markdown",
   "source": "## Create Demo Data",
   "metadata": {
    "collapsed": false
   },
   "id": "a4319bc52c17e706"
  },
  {
   "metadata": {},
   "cell_type": "markdown",
   "source": "#### Code",
   "id": "abebf05deca35a94"
  },
  {
   "cell_type": "code",
   "source": [
    "# Sample data with some outliers\n",
    "data = {\n",
    "    'Age': [25, 30, 35, 40, 45, 500],  # 500 is an outlier\n",
    "    'Income': [50000, 70000, 80000, 90000, 100000, 9999999]  # 9999999 is an outlier\n",
    "}\n",
    "df = pd.DataFrame(data)\n",
    "\n",
    "print(\"Original DataFrame:\")\n",
    "print(df)"
   ],
   "metadata": {
    "collapsed": true,
    "ExecuteTime": {
     "end_time": "2024-04-05T23:55:27.204992Z",
     "start_time": "2024-04-05T23:55:27.190828Z"
    }
   },
   "id": "initial_id",
   "outputs": [
    {
     "name": "stdout",
     "output_type": "stream",
     "text": [
      "Original DataFrame:\n",
      "   Age   Income\n",
      "0   25    50000\n",
      "1   30    70000\n",
      "2   35    80000\n",
      "3   40    90000\n",
      "4   45   100000\n",
      "5  500  9999999\n"
     ]
    }
   ],
   "execution_count": 21
  },
  {
   "metadata": {},
   "cell_type": "markdown",
   "source": [
    "### Output review\n",
    "\n",
    "We can obviously see the outliers in line 5, the whisker lines or the limit values were inserted beforehand, from which we consider a value to be an outlier. In the next code section we will calculate the whisker lines. <br><br>\n",
    "\n",
    "|   | Age | Income   | Description                                 |\n",
    "|---|-----|----------|---------------------------------------------|\n",
    "|   | 12.5| 35,000 | **Lower Whisker limit in this sample data** |\n",
    "| 0 | 25  | 50,000   | *Normal Data*                               |\n",
    "| 1 | 30  | 70,000   | *Normal Data*                               |\n",
    "| 2 | 35  | 80,000   | *Normal Data*                               |\n",
    "| 3 | 40  | 90,000   | *Normal Data*                               |\n",
    "| 4 | 45  | 100,000  | *Normal Data*                               |\n",
    "|   | 62.5| 135,000  | **Upper Whisker limit in this sample data** |\n",
    "| 5 | 500 | 9,999,999| *Outlier*                                   |\n",
    "\n"
   ],
   "id": "30b6d190905870ad"
  },
  {
   "cell_type": "markdown",
   "source": [
    "---\n",
    "## Calculate Whisker\n",
    "\n",
    "> *The following code cell is only to print out the whisker lines, resp. illustrate the limits for outliners* "
   ],
   "metadata": {
    "collapsed": false
   },
   "id": "7069b166ea93538a"
  },
  {
   "cell_type": "markdown",
   "source": [
    "#### Cookbook Recipe\n",
    "\n",
    "1. Define a function to calculate whisker limits in a dataset.\n",
    "   - b. Calculate the first quartile (Q1) of the data.\n",
    "   - c. Calculate the third quartile (Q3) of the data.\n",
    "   - d. Compute the interquartile range (IQR) as Q3 - Q1.\n",
    "   - e. Determine the lower whisker as Q1 minus 1.5 times the IQR.\n",
    "   - f. Determine the upper whisker as Q3 plus 1.5 times the IQR.  \n",
    "\n",
    "2. Apply the function to `Age` and `Income` columns of DataFrame to get the whisker values (lower and upper) for both columns.\n",
    "\n",
    "3. Print the calculated lower and upper whisker limits for these columns."
   ],
   "metadata": {
    "collapsed": false
   },
   "id": "d6c405e532ce1359"
  },
  {
   "metadata": {},
   "cell_type": "markdown",
   "source": "#### Code",
   "id": "3aa9e5ffc13ab485"
  },
  {
   "cell_type": "code",
   "source": [
    "# 1. Define a function to calculate whisker limits in a dataframe.\n",
    "def calculate_whiskers(df, multiplier=1.5):\n",
    "    Q1 = df.quantile(0.25)  # 1.b\n",
    "    Q3 = df.quantile(0.75)  # 1.c\n",
    "    IQR = Q3 - Q1  # 1.d\n",
    "    lower_whisker = Q1 - multiplier * IQR  # 1.e\n",
    "    upper_whisker = Q3 + multiplier * IQR  # 1.f\n",
    "    return lower_whisker, upper_whisker\n",
    "\n",
    "\n",
    "# 2. Apply the function to 'Age' and 'Income' columns of dataframe.\n",
    "age_lower, age_upper = calculate_whiskers(df['Age'])\n",
    "income_lower, income_upper = calculate_whiskers(df['Income'])\n",
    "\n",
    "# 3. Print the calculated lower and upper whisker limits for both columns.\n",
    "print(\"Age - Lower Whisker: \", age_lower)\n",
    "print(\"Age - Upper Whisker: \", age_upper)\n",
    "print(\"Income - Lower Whisker: \", income_lower)\n",
    "print(\"Income - Upper Whisker: \", income_upper)\n"
   ],
   "metadata": {
    "collapsed": false,
    "ExecuteTime": {
     "end_time": "2024-04-05T23:55:27.221047Z",
     "start_time": "2024-04-05T23:55:27.205993Z"
    }
   },
   "id": "ab8744d75427cfed",
   "outputs": [
    {
     "name": "stdout",
     "output_type": "stream",
     "text": [
      "Age - Lower Whisker:  12.5\n",
      "Age - Upper Whisker:  62.5\n",
      "Income - Lower Whisker:  35000.0\n",
      "Income - Upper Whisker:  135000.0\n"
     ]
    }
   ],
   "execution_count": 22
  },
  {
   "cell_type": "markdown",
   "source": [
    "---\n",
    "## Clean outliners from data"
   ],
   "metadata": {
    "collapsed": false
   },
   "id": "992b736459ee8812"
  },
  {
   "cell_type": "markdown",
   "source": [
    "#### Cookbook Recipe\n",
    "\n",
    "1. Define a function to clean data from a dataset.\n",
    "   - b. Calculate the first quartile (Q1) of the data.\n",
    "   - c. Calculate the third quartile (Q3) of the data.\n",
    "   - d. Compute the interquartile range (IQR) as Q3 - Q1.\n",
    "   - e. Remove data points that are lower than Q1 minus 1.5 times the IQR.\n",
    "   - f. Remove data points that are higher than Q3 plus 1.5 times the IQR.  \n",
    "\n",
    "2. Apply the function to your dataframe to get a cleaned version of the data.\n",
    "\n",
    "3. Print the cleaned dataframe."
   ],
   "metadata": {
    "collapsed": false
   },
   "id": "9af9ba2577559253"
  },
  {
   "metadata": {},
   "cell_type": "markdown",
   "source": "#### Code",
   "id": "81c459d0230e3f75"
  },
  {
   "cell_type": "code",
   "source": [
    "# 1.Define a function to clean data from a dataset.\n",
    "def clean_data(df, multiplier=1.5):\n",
    "    Q1 = df.quantile(0.25)  # 1.b\n",
    "    Q3 = df.quantile(0.75)  # 1.c\n",
    "    IQR = Q3 - Q1  # 1.d\n",
    "    df = df[~((df < (Q1 - multiplier * IQR)) |\n",
    "              (df > (Q3 + multiplier * IQR))).any(axis=1)]  # 1.e and 1.f\n",
    "\n",
    "    return df\n",
    "\n",
    "\n",
    "# 2. Apply the function to dataframe.\n",
    "cleaned_df = clean_data(df)\n",
    "\n",
    "# 3. Print the calculated lower and upper whisker limits for both columns.\n",
    "print(\"\\nCleaned DataFrame:\")\n",
    "print(cleaned_df)\n"
   ],
   "metadata": {
    "collapsed": false,
    "ExecuteTime": {
     "end_time": "2024-04-05T23:55:27.237072Z",
     "start_time": "2024-04-05T23:55:27.222555Z"
    }
   },
   "id": "e3be5efeaa8ee5bf",
   "outputs": [
    {
     "name": "stdout",
     "output_type": "stream",
     "text": [
      "\n",
      "Cleaned DataFrame:\n",
      "   Age  Income\n",
      "0   25   50000\n",
      "1   30   70000\n",
      "2   35   80000\n",
      "3   40   90000\n",
      "4   45  100000\n"
     ]
    }
   ],
   "execution_count": 23
  },
  {
   "metadata": {},
   "cell_type": "markdown",
   "source": "---",
   "id": "28f1086fbf193c61"
  }
 ],
 "metadata": {
  "kernelspec": {
   "display_name": "Python 3",
   "language": "python",
   "name": "python3"
  },
  "language_info": {
   "codemirror_mode": {
    "name": "ipython",
    "version": 2
   },
   "file_extension": ".py",
   "mimetype": "text/x-python",
   "name": "python",
   "nbconvert_exporter": "python",
   "pygments_lexer": "ipython2",
   "version": "2.7.6"
  }
 },
 "nbformat": 4,
 "nbformat_minor": 5
}
