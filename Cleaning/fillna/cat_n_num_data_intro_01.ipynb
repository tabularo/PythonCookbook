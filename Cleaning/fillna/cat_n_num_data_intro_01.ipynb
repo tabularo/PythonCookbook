{
 "cells": [
  {
   "cell_type": "markdown",
   "source": [
    "## Import Libs"
   ],
   "metadata": {
    "collapsed": false
   },
   "id": "a760f6449e024f18"
  },
  {
   "cell_type": "code",
   "outputs": [],
   "source": [
    "import pandas as pd\n",
    "import numpy as np"
   ],
   "metadata": {
    "collapsed": false,
    "ExecuteTime": {
     "end_time": "2024-04-04T12:41:27.820814Z",
     "start_time": "2024-04-04T12:41:27.818679Z"
    }
   },
   "id": "504d0bcc61e90fa8",
   "execution_count": 1
  },
  {
   "cell_type": "markdown",
   "source": [
    "# fillna()"
   ],
   "metadata": {
    "collapsed": false
   },
   "id": "dc23fdfe0971540"
  },
  {
   "cell_type": "markdown",
   "source": [
    "### doc\n",
    "\n",
    "**`fillna()`**\n",
    "\n",
    "The `fillna()` function is part of the pandas library in Python and is used to fill NA/NaN values using the specified method.\n",
    "\n",
    "**Usage:**\n",
    "\n",
    "**Parameters:**\n",
    "\n",
    "- **`value : scalar, dict, Series, or DataFrame`**\n",
    "  * Value to use to fill holes (e.g., 0), alternately a dict/Series/DataFrame of values specifying which value to use for each index (for a Series) or column (for a DataFrame). Values not in the dict/Series/DataFrame will not be filled. This value cannot be a list.\n",
    "\n",
    "- **`method: {'backfill', 'bfill', 'pad', 'ffill', None}, default None`**\n",
    "  * Method to use for filling holes in reindexed series.\n",
    "\n",
    "- **`axis: {0 or 'index', 1 or 'columns'}`**\n",
    "  * Axis along which to fill missing values.\n",
    "\n",
    "- **`inplace: bool, default False`**\n",
    "  * If True, fill in-place. Note: this will modify any other views on this object.\n",
    "\n",
    "- **`limit: int, default None`**\n",
    "  * If method is specified, this is the maximum number of consecutive NaN values to forward/backward fill. In other words, if there is a gap with more than this number of consecutive NaNs, it will only be partially filled. If method is not specified, this is the maximum number of entries along the entire axis where NaNs will be filled.\n",
    "\n",
    "- **`downcast: dict, default is None`**\n",
    "  * A dictionary of item->dtype of what to downcast if possible, or the string 'infer' which will try to downcast to an appropriate equal type.\n",
    "\n",
    "**Returns:**\n",
    "DataFrame or Series\n"
   ],
   "metadata": {
    "collapsed": false
   },
   "id": "6c6a508289f84216"
  },
  {
   "cell_type": "markdown",
   "source": [
    "## categorical data"
   ],
   "metadata": {
    "collapsed": false
   },
   "id": "a4319bc52c17e706"
  },
  {
   "cell_type": "markdown",
   "source": [
    "### mode()\n"
   ],
   "metadata": {
    "collapsed": false
   },
   "id": "b7158102751b9e10"
  },
  {
   "cell_type": "markdown",
   "source": [
    "#### doc\n",
    "- part of the pandas lib\n",
    "- used to find the mode (most frequently occurring value) \n",
    "    - in a pandas Series \n",
    "    - or DataFrames."
   ],
   "metadata": {
    "collapsed": false
   },
   "id": "5836d2dd5d07e183"
  },
  {
   "cell_type": "markdown",
   "source": [
    "#### Cookbook receipe\n",
    "\n",
    "1. define columns\n",
    "2. find mode\n",
    "3. fill NA/NaN with mode\n",
    "    -  In case we have equally occurring values, we just pick the first (index = 0)"
   ],
   "metadata": {
    "collapsed": false
   },
   "id": "c1716d013473076e"
  },
  {
   "cell_type": "code",
   "outputs": [
    {
     "name": "stdout",
     "output_type": "stream",
     "text": [
      "Original DataFrame:\n",
      "    Name   Type   Country\n",
      "0   John  Type1  Country1\n",
      "1   Anna  Type2       NaN\n",
      "2    NaN  Type2  Country2\n",
      "3  Linda    NaN  Country1\n",
      "4   John  Type1  Country2\n",
      "\n",
      "DataFrame after filling NA values with mode:\n",
      "    Name   Type   Country\n",
      "0   John  Type1  Country1\n",
      "1   Anna  Type2  Country1\n",
      "2   John  Type2  Country2\n",
      "3  Linda  Type1  Country1\n",
      "4   John  Type1  Country2\n"
     ]
    }
   ],
   "source": [
    "# Create simple dictionary with some missing values\n",
    "data = {\n",
    "    'Name': ['John', 'Anna', np.nan, 'Linda', 'John'],\n",
    "    'Type': ['Type1', 'Type2', 'Type2', np.nan, 'Type1'],\n",
    "    'Country': ['Country1', np.nan, 'Country2', 'Country1', 'Country2'],\n",
    "}\n",
    "\n",
    "# Convert dictionary to pandas DataFrame\n",
    "data = pd.DataFrame(data)\n",
    "\n",
    "print(\"Original DataFrame:\")\n",
    "print(data)\n",
    "\n",
    "# Apply mode and fillna\n",
    "for column in ['Name', 'Type', 'Country']:\n",
    "    mode = data[column].mode()[0] # in case we have more then one mode\n",
    "    data[column].fillna(mode, inplace=True)\n",
    "\n",
    "print(\"\\nDataFrame after filling NA values with mode:\")\n",
    "print(data)\n"
   ],
   "metadata": {
    "collapsed": true,
    "ExecuteTime": {
     "end_time": "2024-04-04T12:41:27.859434Z",
     "start_time": "2024-04-04T12:41:27.853896Z"
    }
   },
   "id": "initial_id",
   "execution_count": 2
  },
  {
   "cell_type": "markdown",
   "source": [
    "## numerical data"
   ],
   "metadata": {
    "collapsed": false
   },
   "id": "7069b166ea93538a"
  },
  {
   "cell_type": "markdown",
   "source": [
    "### median()"
   ],
   "metadata": {
    "collapsed": false
   },
   "id": "71eabf8d7ca3c2ee"
  },
  {
   "cell_type": "markdown",
   "source": [
    "#### doc\n",
    "\n",
    "**`np.median()`**\n",
    "\n",
    "`np.median()` is a function in the NumPy library in Python. This function is used to compute the **median**, or middle value, of a set of numbers. \n",
    "\n",
    "*Parameters:*\n",
    "\n",
    "- **`a`** (_array_like_): The input array or object that can be converted into an array. This collection of numbers is what the median is computed from.\n",
    "\n",
    "- **`axis`** ({_int, sequence of int, None_}, optional): The axis or axes along which the medians are computed. The default is `None`, meaning that the median is computed from the entire array.\n",
    "\n",
    "- **`out`** (_ndarray_, optional): An alternative output array in which to place the result. It must have the same shape and buffer length as the expected output, but the type will be cast if necessary.\n",
    "\n",
    "- **`overwrite_input`** (_bool_, optional): This is `False` by default, which prevents the input from being changed. If it is set to `True`, allow modifications to the input array `a` to save memory. \n",
    "\n",
    "- **`keepdims`** (_bool_, optional): If set to `True`, the axes which were reduced stay dimension with size one. With this option, the result will broadcast correctly against the input array.\n",
    "\n",
    "*Returns:*\n",
    "\n",
    "  Returns a new array holding the median result. If the input array has an even number of elements, it returns the average of the two middle elements. If the input array has an odd number of elements, it returns the exact middle element.\n",
    "\n",
    "*Raises:*\n",
    "\n",
    "- **`TypeError`**: If the input array is not numerical and cannot be converted into a numerical array."
   ],
   "metadata": {
    "collapsed": false
   },
   "id": "6690d176ffaafc1d"
  },
  {
   "cell_type": "markdown",
   "source": [
    "#### cookbook receipe\n",
    "\n",
    "1. define columns manually -> as list\n",
    "2. find median of each column\n",
    "3. fill NA/NaN with median"
   ],
   "metadata": {
    "collapsed": false
   },
   "id": "d6c405e532ce1359"
  },
  {
   "cell_type": "code",
   "outputs": [
    {
     "name": "stdout",
     "output_type": "stream",
     "text": [
      "Original DataFrame:\n",
      "   Turnover  Transactions\n",
      "0     100.0           1.0\n",
      "1     200.0           2.0\n",
      "2       NaN           3.0\n",
      "3     400.0           NaN\n",
      "4     500.0           NaN\n",
      "5     600.0           6.0\n",
      "6       NaN           7.0\n",
      "7     800.0           8.0\n",
      "\n",
      "DataFrame after filling NA values with median:\n",
      "   Turnover  Transactions\n",
      "0     100.0           1.0\n",
      "1     200.0           2.0\n",
      "2     450.0           3.0\n",
      "3     400.0           4.5\n",
      "4     500.0           4.5\n",
      "5     600.0           6.0\n",
      "6     450.0           7.0\n",
      "7     800.0           8.0\n"
     ]
    }
   ],
   "source": [
    "# Sample data with some missing values\n",
    "data = {\n",
    "    'Turnover': [100, 200, np.nan, 400, 500, 600, np.nan, 800],\n",
    "    'Transactions': [1, 2, 3, np.nan, np.nan, 6, 7, 8]\n",
    "}\n",
    "\n",
    "# Convert dictionary to a pandas DataFrame\n",
    "data = pd.DataFrame(data)\n",
    "\n",
    "print(\"Original DataFrame:\")\n",
    "print(data)\n",
    "\n",
    "# Fill missing values with column median\n",
    "for column in ['Turnover', 'Transactions']:\n",
    "    median = data[column].median()\n",
    "    data[column].fillna(median, inplace=True)\n",
    "\n",
    "print(\"\\nDataFrame after filling NA values with median:\")\n",
    "print(data)\n"
   ],
   "metadata": {
    "collapsed": false,
    "ExecuteTime": {
     "end_time": "2024-04-04T12:41:27.866743Z",
     "start_time": "2024-04-04T12:41:27.860482Z"
    }
   },
   "id": "ab8744d75427cfed",
   "execution_count": 3
  },
  {
   "cell_type": "markdown",
   "source": [
    "## mixed data - select_dtypes"
   ],
   "metadata": {
    "collapsed": false
   },
   "id": "992b736459ee8812"
  },
  {
   "cell_type": "markdown",
   "source": [
    "### select_dtypes()"
   ],
   "metadata": {
    "collapsed": false
   },
   "id": "f5a1e573345ebc63"
  },
  {
   "cell_type": "markdown",
   "source": [
    "### doc\n",
    "\n",
    "**`select_dtypes()`**\n",
    "\n",
    "`select_dtypes()` is a method in pandas DataFrame. This method is used to select columns in a DataFrame by data type.\n",
    "\n",
    "*Parameters:*\n",
    "\n",
    "- **`include`** (_string or list of strings, optional_): Column data types to include.\n",
    "\n",
    "- **`exclude`** (_string or list of strings, optional_): Column data types to exclude.\n",
    "\n",
    "*Returns:*\n",
    "\n",
    "A DataFrame with columns that match the specified data types.\n"
   ],
   "metadata": {
    "collapsed": false
   },
   "id": "69bd4a60989f0eaf"
  },
  {
   "cell_type": "markdown",
   "source": [
    "### cookbook receipe\n",
    "\n",
    "- **numeric**\n",
    "    - **Identifying** numeric columns `select_dtypes(include=np.number).columns`\n",
    "    - **Applying** `fill_na_with_mean()`\n",
    "- **categorical**\n",
    "    - **Identifying** categorical columns that include string/object type using `select_dtypes(include='object').columns`\n",
    "    - **Applying** the `fill_na_with_mode()`\n",
    "- **Returning** the cleaned dataframe with no NA/NaN values in both numerical and categorical columns."
   ],
   "metadata": {
    "collapsed": false
   },
   "id": "9af9ba2577559253"
  },
  {
   "cell_type": "code",
   "outputs": [
    {
     "name": "stdout",
     "output_type": "stream",
     "text": [
      "Original DataFrame:\n",
      "    Age           City    Income\n",
      "0  25.0       New York   50000.0\n",
      "1  30.0        Seattle   70000.0\n",
      "2  35.0  San Francisco       NaN\n",
      "3   NaN         Austin   90000.0\n",
      "4  45.0            NaN  100000.0\n",
      "\n",
      "Cleaned DataFrame:\n",
      "     Age           City    Income\n",
      "0  25.00       New York   50000.0\n",
      "1  30.00        Seattle   70000.0\n",
      "2  35.00  San Francisco   77500.0\n",
      "3  33.75         Austin   90000.0\n",
      "4  45.00         Austin  100000.0\n"
     ]
    }
   ],
   "source": [
    "import pandas as pd\n",
    "import numpy as np\n",
    "\n",
    "# Simple DataFrame with both numerical and categorical data\n",
    "data = {\n",
    "    'Age': [25, 30, 35, np.nan, 45],\n",
    "    'City': ['New York', 'Seattle', 'San Francisco', 'Austin', np.nan],\n",
    "    'Income': [50000, 70000, np.nan, 90000, 100000]\n",
    "}\n",
    "\n",
    "df = pd.DataFrame(data)\n",
    "print(\"Original DataFrame:\")\n",
    "print(df)\n",
    "\n",
    "def fill_na_with_mean(df, num_cols):\n",
    "    mean_values = df[num_cols].mean()\n",
    "    df[num_cols] = df[num_cols].fillna(mean_values)\n",
    "    return df\n",
    "\n",
    "\n",
    "def fill_na_with_mode(df, cat_cols):\n",
    "    mode_values = df[cat_cols].mode().iloc[0]\n",
    "    df[cat_cols] = df[cat_cols].fillna(mode_values)\n",
    "    return df\n",
    "\n",
    "\n",
    "def clean_data(df):\n",
    "    # Identify numerical columns and fill NA/NaN with mean\n",
    "    num_cols = df.select_dtypes(include=np.number).columns\n",
    "    df = fill_na_with_mean(df, num_cols)\n",
    "\n",
    "    # Identify categorical columns and fill NA/NaN with mode\n",
    "    cat_cols = df.select_dtypes(include='object').columns\n",
    "    df = fill_na_with_mode(df, cat_cols)\n",
    "\n",
    "    return df\n",
    "\n",
    "\n",
    "\n",
    "# Apply the function on our DataFrame\n",
    "cleaned_df = clean_data(df)\n",
    "print(\"\\nCleaned DataFrame:\")\n",
    "print(cleaned_df)\n"
   ],
   "metadata": {
    "collapsed": false,
    "ExecuteTime": {
     "end_time": "2024-04-04T12:41:27.876442Z",
     "start_time": "2024-04-04T12:41:27.867528Z"
    }
   },
   "id": "e3be5efeaa8ee5bf",
   "execution_count": 4
  },
  {
   "cell_type": "code",
   "outputs": [],
   "source": [],
   "metadata": {
    "collapsed": false,
    "ExecuteTime": {
     "end_time": "2024-04-04T12:41:27.879206Z",
     "start_time": "2024-04-04T12:41:27.877629Z"
    }
   },
   "id": "51a10ab8384b4db7",
   "execution_count": 4
  }
 ],
 "metadata": {
  "kernelspec": {
   "display_name": "Python 3",
   "language": "python",
   "name": "python3"
  },
  "language_info": {
   "codemirror_mode": {
    "name": "ipython",
    "version": 2
   },
   "file_extension": ".py",
   "mimetype": "text/x-python",
   "name": "python",
   "nbconvert_exporter": "python",
   "pygments_lexer": "ipython2",
   "version": "2.7.6"
  }
 },
 "nbformat": 4,
 "nbformat_minor": 5
}
