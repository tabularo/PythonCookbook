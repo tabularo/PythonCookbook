{
 "cells": [
  {
   "metadata": {},
   "cell_type": "markdown",
   "source": [
    "# Handling Missing Data\n",
    "\n",
    "Dealing with missing data is an operational necessity in data analysis and machine learning. The presence of missing or null values in a dataset can skew analysis, lead to biased results, and ultimately, create unreliable models. Understanding how to manage these missing values is, therefore, a crucial skill in producing accurate, data-driven solutions.\n",
    "\n",
    "In this guide, we'll handling missing data, with a keen focus on two data types: categorical and numerical. We'll dissect each data type and look at unique strategies most suited for handling missing values in each.\n",
    "\n",
    "**Key Techniques**\n",
    "\n",
    "Our approach will primarily look at Python's pandas library and employ an array of methods including:\n",
    "- **`fillna()`**: A method that allows us to fill missing values in several ways.\n",
    "- **`mode()`**: A oft-used method in categorical data handling to replace missing values with the most occurring category.\n",
    "- Statistical approaches like `mean()` and `median()`: Common ways to deal with missing numerical data by using central tendency measures as a substitute.\n"
   ],
   "id": "1e3041c029e3e1e6"
  },
  {
   "metadata": {},
   "cell_type": "markdown",
   "source": "---",
   "id": "923c481ec641490f"
  },
  {
   "metadata": {},
   "cell_type": "markdown",
   "source": "# Setup & References",
   "id": "cb11245c6cc2426f"
  },
  {
   "metadata": {},
   "cell_type": "markdown",
   "source": "## Import Libs",
   "id": "a760f6449e024f18"
  },
  {
   "cell_type": "code",
   "source": [
    "import pandas as pd\n",
    "import numpy as np"
   ],
   "metadata": {
    "collapsed": false,
    "ExecuteTime": {
     "end_time": "2024-04-05T22:16:24.712688Z",
     "start_time": "2024-04-05T22:16:24.698175Z"
    }
   },
   "id": "504d0bcc61e90fa8",
   "outputs": [],
   "execution_count": 16
  },
  {
   "metadata": {},
   "cell_type": "markdown",
   "source": "## Use functions",
   "id": "cd3092cda76f37ae"
  },
  {
   "metadata": {},
   "cell_type": "markdown",
   "source": [
    "| Function | Description |\n",
    "| :--- | :--- |\n",
    "| [pandas.DataFrame.fillna](https://pandas.pydata.org/pandas-docs/stable/reference/api/pandas.DataFrame.fillna.html) | To fill NA/NaN values using the specified method. |\n",
    "| [pandas.DataFrame.median](https://pandas.pydata.org/pandas-docs/stable/reference/api/pandas.DataFrame.median.html) | To return the median of the values for the requested axis. |\n",
    "| [pandas.DataFrame.select_dtypes](https://pandas.pydata.org/pandas-docs/stable/reference/api/pandas.DataFrame.select_dtypes.html) | To select columns by dtype or array. |"
   ],
   "id": "4ae8182b691f6733"
  },
  {
   "metadata": {},
   "cell_type": "markdown",
   "source": [
    "---\n",
    "# Code Snippets\n",
    "---"
   ],
   "id": "2f9d1d7cdf485765"
  },
  {
   "cell_type": "markdown",
   "source": "## categorical data",
   "metadata": {
    "collapsed": false
   },
   "id": "a4319bc52c17e706"
  },
  {
   "cell_type": "markdown",
   "source": [
    "#### Cookbook Recipe\n",
    "  \n",
    "1. Initialize a DataFrame containing missing values.\n",
    "2. Determine which columns to process.\n",
    "3. Compute the mode (most frequently occurring element).\n",
    "4. Replace NaN entries with the mode.\n",
    "   * Note: If multiple modes are found, the first one is used."
   ],
   "metadata": {
    "collapsed": false
   },
   "id": "c1716d013473076e"
  },
  {
   "cell_type": "code",
   "source": [
    "# Step 1: Initialize a DataFrame with missing values.\n",
    "data = {\n",
    "    'Name': ['John', 'Anna', np.nan, 'Linda', 'John'],\n",
    "    'Type': ['Type1', 'Type2', 'Type2', np.nan, 'Type1'],\n",
    "    'Country': ['Country1', np.nan, 'Country2', 'Country1', 'Country2'],\n",
    "}\n",
    "data = pd.DataFrame(data)\n",
    "print(\"Original DataFrame:\")\n",
    "print(data)\n",
    "\n",
    "# Step 2: Determine which columns to process. (i.e., 'Name', 'Type', 'Country')\n",
    "# Step 3: Compute the mode (most frequently occurring element).\n",
    "# Step 4: Replace NaN entries with the mode.\n",
    "# Note: If multiple modes are found, the first one is used.\n",
    "for column in ['Name', 'Type', 'Country']:\n",
    "    mode = data[column].mode()[0]  # index = 0, in case we have more then one mode\n",
    "    data[column].fillna(mode, inplace=True)\n",
    "\n",
    "print(\"\\nDataFrame after filling NA values with mode:\")\n",
    "print(data)\n"
   ],
   "metadata": {
    "collapsed": true,
    "ExecuteTime": {
     "end_time": "2024-04-05T22:16:24.728722Z",
     "start_time": "2024-04-05T22:16:24.713686Z"
    }
   },
   "id": "initial_id",
   "outputs": [
    {
     "name": "stdout",
     "output_type": "stream",
     "text": [
      "Original DataFrame:\n",
      "    Name   Type   Country\n",
      "0   John  Type1  Country1\n",
      "1   Anna  Type2       NaN\n",
      "2    NaN  Type2  Country2\n",
      "3  Linda    NaN  Country1\n",
      "4   John  Type1  Country2\n",
      "\n",
      "DataFrame after filling NA values with mode:\n",
      "    Name   Type   Country\n",
      "0   John  Type1  Country1\n",
      "1   Anna  Type2  Country1\n",
      "2   John  Type2  Country2\n",
      "3  Linda  Type1  Country1\n",
      "4   John  Type1  Country2\n"
     ]
    }
   ],
   "execution_count": 17
  },
  {
   "cell_type": "markdown",
   "source": [
    "---\n",
    "## numerical data"
   ],
   "metadata": {
    "collapsed": false
   },
   "id": "7069b166ea93538a"
  },
  {
   "cell_type": "markdown",
   "source": [
    "#### Cookbook Recipe\n",
    "\n",
    "1. Initialize a DataFrame with missing values.\n",
    "2. Determine the columns for processing.\n",
    "3. Compute the median value in each column.\n",
    "4. Replace missing (NaN) values in each column with the computed median."
   ],
   "metadata": {
    "collapsed": false
   },
   "id": "d6c405e532ce1359"
  },
  {
   "cell_type": "code",
   "source": [
    "# Step 1: Initialize a DataFrame with missing values.\n",
    "data = {\n",
    "    'Turnover': [100, 200, np.nan, 400, 500, 600, np.nan, 800],\n",
    "    'Transactions': [1, 2, 3, np.nan, np.nan, 6, 7, 8]\n",
    "}\n",
    "data = pd.DataFrame(data)  # Convert dictionary to pandas DataFrame\n",
    "\n",
    "print(\"Original DataFrame:\")\n",
    "print(data)\n",
    "\n",
    "# Step 2: Determine the columns for processing (i.e., 'Turnover' and 'Transactions'),\n",
    "# Step 3: Compute the median value in each column,\n",
    "# Step 4: Replace missing (NaN) values in each column with the table's computed mean.\n",
    "for column in ['Turnover', 'Transactions']:\n",
    "    median = data[column].median()\n",
    "    data[column].fillna(median, inplace=True)\n",
    "\n",
    "print(\"\\nDataFrame after filling NA values with median:\")\n",
    "print(data)\n"
   ],
   "metadata": {
    "collapsed": false,
    "ExecuteTime": {
     "end_time": "2024-04-05T22:16:24.744814Z",
     "start_time": "2024-04-05T22:16:24.730719Z"
    }
   },
   "id": "ab8744d75427cfed",
   "outputs": [
    {
     "name": "stdout",
     "output_type": "stream",
     "text": [
      "Original DataFrame:\n",
      "   Turnover  Transactions\n",
      "0     100.0           1.0\n",
      "1     200.0           2.0\n",
      "2       NaN           3.0\n",
      "3     400.0           NaN\n",
      "4     500.0           NaN\n",
      "5     600.0           6.0\n",
      "6       NaN           7.0\n",
      "7     800.0           8.0\n",
      "\n",
      "DataFrame after filling NA values with median:\n",
      "   Turnover  Transactions\n",
      "0     100.0           1.0\n",
      "1     200.0           2.0\n",
      "2     450.0           3.0\n",
      "3     400.0           4.5\n",
      "4     500.0           4.5\n",
      "5     600.0           6.0\n",
      "6     450.0           7.0\n",
      "7     800.0           8.0\n"
     ]
    }
   ],
   "execution_count": 18
  },
  {
   "cell_type": "markdown",
   "source": [
    "---\n",
    "## mixed data - select_dtypes"
   ],
   "metadata": {
    "collapsed": false
   },
   "id": "992b736459ee8812"
  },
  {
   "cell_type": "markdown",
   "source": [
    "#### Cookbook Recipe\n",
    "\n",
    "1. Initialize a DataFrame with both numerical and categorical data, and some missing values.\n",
    "2. \n",
    "   a. Define a function to fill missing numerical data with the mean of the corresponding column.\n",
    "   b. Define a function to fill missing categorical data with the mode (most frequently occurring value) of the corresponding column. \n",
    "3. Identify numerical and categorical columns in the DataFrame using pandas `select_dtypes()`.\n",
    "4. \n",
    "   a. Apply `fill_na_with_mean()` to clean missing numerical data in the DataFrame.\n",
    "   b. Apply `fill_na_with_mode()` to clean missing categorical data in the DataFrame.\n",
    "5. Print out the DataFrame after cleaning, which should have no missing values now."
   ],
   "metadata": {
    "collapsed": false
   },
   "id": "9af9ba2577559253"
  },
  {
   "cell_type": "code",
   "source": [
    "import pandas as pd\n",
    "import numpy as np\n",
    "\n",
    "# Step 1: Initialize a DataFrame with some missing values.\n",
    "data = {\n",
    "    'Age': [25, 30, 35, np.nan, 45],\n",
    "    'City': ['New York', 'Seattle', 'San Francisco', 'Austin', np.nan],\n",
    "    'Income': [50000, 70000, np.nan, 90000, 100000]\n",
    "}\n",
    "df = pd.DataFrame(data)\n",
    "print(\"Original DataFrame:\")\n",
    "print(df)\n",
    "\n",
    "\n",
    "# Step 2a: Define a function to fill missing numerical data with the mean of corresponding column.\n",
    "def fill_na_with_mean(df, num_cols):\n",
    "    mean_values = df[num_cols].mean()\n",
    "    df[num_cols] = df[num_cols].fillna(mean_values)\n",
    "    return df\n",
    "\n",
    "\n",
    "# Step 2b: Define a function to fill missing categorical data with the mode (most frequently occurring value) of corresponding column.\n",
    "def fill_na_with_mode(df, cat_cols):\n",
    "    mode_values = df[cat_cols].mode().iloc[0]\n",
    "    df[cat_cols] = df[cat_cols].fillna(mode_values)\n",
    "    return df\n",
    "\n",
    "\n",
    "# Step 3: Identify numerical and categorical columns using pandas `select_dtypes()`.\n",
    "# Step 4a: Apply the function `fill_na_with_mean()` to clean missing numerical data in the DataFrame.\n",
    "# Step 4b: Apply the function `fill_na_with_mode()` to clean missing categorical data in the DataFrame.\n",
    "def clean_data(df):\n",
    "    num_cols = df.select_dtypes(include=np.number).columns\n",
    "    df = fill_na_with_mean(df, num_cols)\n",
    "    cat_cols = df.select_dtypes(include='object').columns\n",
    "    df = fill_na_with_mode(df, cat_cols)\n",
    "    return df\n",
    "\n",
    "\n",
    "# Apply the cleaning functions and the process.\n",
    "cleaned_df = clean_data(df)\n",
    "\n",
    "# Step 5: Print out the cleaned DataFrame that has no missing values.\n",
    "print(\"\\nCleaned DataFrame:\")\n",
    "print(cleaned_df)\n"
   ],
   "metadata": {
    "collapsed": false,
    "ExecuteTime": {
     "end_time": "2024-04-05T22:16:24.760259Z",
     "start_time": "2024-04-05T22:16:24.746748Z"
    }
   },
   "id": "e3be5efeaa8ee5bf",
   "outputs": [
    {
     "name": "stdout",
     "output_type": "stream",
     "text": [
      "Original DataFrame:\n",
      "    Age           City    Income\n",
      "0  25.0       New York   50000.0\n",
      "1  30.0        Seattle   70000.0\n",
      "2  35.0  San Francisco       NaN\n",
      "3   NaN         Austin   90000.0\n",
      "4  45.0            NaN  100000.0\n",
      "\n",
      "Cleaned DataFrame:\n",
      "     Age           City    Income\n",
      "0  25.00       New York   50000.0\n",
      "1  30.00        Seattle   70000.0\n",
      "2  35.00  San Francisco   77500.0\n",
      "3  33.75         Austin   90000.0\n",
      "4  45.00         Austin  100000.0\n"
     ]
    }
   ],
   "execution_count": 19
  },
  {
   "metadata": {},
   "cell_type": "markdown",
   "source": "---",
   "id": "28f1086fbf193c61"
  },
  {
   "metadata": {},
   "cell_type": "markdown",
   "source": "---",
   "id": "246afbcfb6e5f83f"
  }
 ],
 "metadata": {
  "kernelspec": {
   "display_name": "Python 3",
   "language": "python",
   "name": "python3"
  },
  "language_info": {
   "codemirror_mode": {
    "name": "ipython",
    "version": 2
   },
   "file_extension": ".py",
   "mimetype": "text/x-python",
   "name": "python",
   "nbconvert_exporter": "python",
   "pygments_lexer": "ipython2",
   "version": "2.7.6"
  }
 },
 "nbformat": 4,
 "nbformat_minor": 5
}
